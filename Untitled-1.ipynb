{
 "cells": [
  {
   "cell_type": "code",
   "execution_count": 1,
   "metadata": {},
   "outputs": [
    {
     "name": "stdout",
     "output_type": "stream",
     "text": [
      "299792458.0\n",
      "6.673e-11\n",
      "6.626069e-34\n",
      "8.854188000000001e-12\n",
      "1.66054e-27\n",
      "6.022142e+23\n",
      "1.3806499999999997e-23\n",
      "96485.34\n",
      "2.6867780000000003e+25\n",
      "10973730.0\n",
      "3289841000000000.0\n",
      "5.6704e-08\n",
      "0.0028977689999999997\n",
      "0.0980665\n",
      "1.6021764599999998e-19\n",
      "9.109381880000002e-31\n",
      "1.67492716e-27\n",
      "1.67262158e-27\n"
     ]
    }
   ],
   "source": [
    "import json\n",
    "import si_prefix\n",
    "with open ('json_files/formula_con.json') as f:\n",
    "    con_json = json.load(f)\n",
    "for i, con in enumerate(con_json):\n",
    "\n",
    "    p = str(con_json[con]['value']).split('*')\n",
    "    if len(p) != 1:\n",
    "            d  =p[1].split('^')\n",
    "\n",
    "            if len(d) != 1:\n",
    "                \n",
    "                print(float(p[0])* float(d[0])**int(d[1]))\n",
    "    \n",
    "    \n",
    "\n"
   ]
  },
  {
   "cell_type": "code",
   "execution_count": 8,
   "metadata": {},
   "outputs": [],
   "source": [
    "import json\n",
    "import si_prefix\n",
    "with open ('json_files/formula_con.json') as f:\n",
    "    con_json = json.load(f)\n",
    "for i, con in enumerate(con_json):\n",
    "    try:\n",
    "        con_json[con]['u_name'] = '1'\n",
    "    except:\n",
    "        print('hs')\n",
    "\n",
    "with open ('json_files/formula_con.json', 'w') as f:\n",
    "    json.dump(con_json,f , indent=4)"
   ]
  },
  {
   "cell_type": "code",
   "execution_count": null,
   "metadata": {},
   "outputs": [],
   "source": []
  }
 ],
 "metadata": {
  "kernelspec": {
   "display_name": "Python 3",
   "language": "python",
   "name": "python3"
  },
  "language_info": {
   "codemirror_mode": {
    "name": "ipython",
    "version": 3
   },
   "file_extension": ".py",
   "mimetype": "text/x-python",
   "name": "python",
   "nbconvert_exporter": "python",
   "pygments_lexer": "ipython3",
   "version": "3.10.11"
  }
 },
 "nbformat": 4,
 "nbformat_minor": 2
}
