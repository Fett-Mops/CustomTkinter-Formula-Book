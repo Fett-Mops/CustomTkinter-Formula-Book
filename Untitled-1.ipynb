{
 "cells": [
  {
   "cell_type": "code",
   "execution_count": 1,
   "metadata": {},
   "outputs": [
    {
     "name": "stdout",
     "output_type": "stream",
     "text": [
      "299792458.0\n",
      "6.673e-11\n",
      "6.626069e-34\n",
      "8.854188000000001e-12\n",
      "1.66054e-27\n",
      "6.022142e+23\n",
      "1.3806499999999997e-23\n",
      "96485.34\n",
      "2.6867780000000003e+25\n",
      "10973730.0\n",
      "3289841000000000.0\n",
      "5.6704e-08\n",
      "0.0028977689999999997\n",
      "0.0980665\n",
      "1.6021764599999998e-19\n",
      "9.109381880000002e-31\n",
      "1.67492716e-27\n",
      "1.67262158e-27\n"
     ]
    }
   ],
   "source": [
    "import json\n",
    "import si_prefix\n",
    "with open ('json_files/formula_con.json') as f:\n",
    "    con_json = json.load(f)\n",
    "for i, con in enumerate(con_json):\n",
    "\n",
    "    p = str(con_json[con]['value']).split('*')\n",
    "    if len(p) != 1:\n",
    "            d  =p[1].split('^')\n",
    "\n",
    "            if len(d) != 1:\n",
    "                \n",
    "                print(float(p[0])* float(d[0])**int(d[1]))\n",
    "    \n",
    "    \n",
    "\n"
   ]
  },
  {
   "cell_type": "code",
   "execution_count": 7,
   "metadata": {},
   "outputs": [],
   "source": [
    "import json\n",
    "import si_prefix\n",
    "with open ('json_files/formula.json') as f:\n",
    "    con_json = json.load(f)\n",
    "for i, con in enumerate(con_json['formula']):\n",
    "    \n",
    "    con_json['formula'][con]['category'] = 'Elecktrotechinck'\n",
    "\n",
    "\n",
    "with open ('json_files/formula.json', 'w') as f:\n",
    "    json.dump(con_json,f , indent=4)"
   ]
  },
  {
   "cell_type": "code",
   "execution_count": 4,
   "metadata": {},
   "outputs": [
    {
     "ename": "ModuleNotFoundError",
     "evalue": "No module named 'customtkinter'",
     "output_type": "error",
     "traceback": [
      "\u001b[1;31m---------------------------------------------------------------------------\u001b[0m",
      "\u001b[1;31mModuleNotFoundError\u001b[0m                       Traceback (most recent call last)",
      "\u001b[1;32mc:\\Users\\mirco\\OneDrive\\Dokumente\\GitHub\\CustomTkinter-Formula-Book\\Untitled-1.ipynb Cell 3\u001b[0m line \u001b[0;36m1\n\u001b[1;32m----> <a href='vscode-notebook-cell:/c%3A/Users/mirco/OneDrive/Dokumente/GitHub/CustomTkinter-Formula-Book/Untitled-1.ipynb#W2sZmlsZQ%3D%3D?line=0'>1</a>\u001b[0m \u001b[39mfrom\u001b[39;00m \u001b[39mCTkScrollableDropdown\u001b[39;00m \u001b[39mimport\u001b[39;00m \u001b[39m*\u001b[39m\n\u001b[0;32m      <a href='vscode-notebook-cell:/c%3A/Users/mirco/OneDrive/Dokumente/GitHub/CustomTkinter-Formula-Book/Untitled-1.ipynb#W2sZmlsZQ%3D%3D?line=1'>2</a>\u001b[0m \u001b[39mimport\u001b[39;00m \u001b[39mcustomtkinter\u001b[39;00m\n\u001b[0;32m      <a href='vscode-notebook-cell:/c%3A/Users/mirco/OneDrive/Dokumente/GitHub/CustomTkinter-Formula-Book/Untitled-1.ipynb#W2sZmlsZQ%3D%3D?line=3'>4</a>\u001b[0m root \u001b[39m=\u001b[39m customtkinter\u001b[39m.\u001b[39mCTk()\n",
      "File \u001b[1;32mc:\\Users\\mirco\\OneDrive\\Dokumente\\GitHub\\CustomTkinter-Formula-Book\\CTkScrollableDropdown\\__init__.py:11\u001b[0m\n\u001b[0;32m      1\u001b[0m \u001b[39m\"\"\"\u001b[39;00m\n\u001b[0;32m      2\u001b[0m \u001b[39mCustomTkinter Scrollable Dropdown Menu\u001b[39;00m\n\u001b[0;32m      3\u001b[0m \u001b[39mAuthor: Akash Bora\u001b[39;00m\n\u001b[1;32m   (...)\u001b[0m\n\u001b[0;32m      6\u001b[0m \u001b[39mHomepage: https://github.com/Akascape/CTkScrollableDropdown\u001b[39;00m\n\u001b[0;32m      7\u001b[0m \u001b[39m\"\"\"\u001b[39;00m\n\u001b[0;32m      9\u001b[0m __version__ \u001b[39m=\u001b[39m \u001b[39m'\u001b[39m\u001b[39m0.8\u001b[39m\u001b[39m'\u001b[39m\n\u001b[1;32m---> 11\u001b[0m \u001b[39mfrom\u001b[39;00m \u001b[39m.\u001b[39;00m\u001b[39mctk_scrollable_dropdown\u001b[39;00m \u001b[39mimport\u001b[39;00m CTkScrollableDropdown\n\u001b[0;32m     12\u001b[0m \u001b[39mfrom\u001b[39;00m \u001b[39m.\u001b[39;00m\u001b[39mctk_scrollable_dropdown_frame\u001b[39;00m \u001b[39mimport\u001b[39;00m CTkScrollableDropdownFrame\n",
      "File \u001b[1;32mc:\\Users\\mirco\\OneDrive\\Dokumente\\GitHub\\CustomTkinter-Formula-Book\\CTkScrollableDropdown\\ctk_scrollable_dropdown.py:6\u001b[0m\n\u001b[0;32m      1\u001b[0m \u001b[39m'''\u001b[39;00m\n\u001b[0;32m      2\u001b[0m \u001b[39mAdvanced Scrollable Dropdown class for customtkinter widgets\u001b[39;00m\n\u001b[0;32m      3\u001b[0m \u001b[39mAuthor: Akash Bora\u001b[39;00m\n\u001b[0;32m      4\u001b[0m \u001b[39m'''\u001b[39;00m\n\u001b[1;32m----> 6\u001b[0m \u001b[39mimport\u001b[39;00m \u001b[39mcustomtkinter\u001b[39;00m\n\u001b[0;32m      7\u001b[0m \u001b[39mimport\u001b[39;00m \u001b[39msys\u001b[39;00m\n\u001b[0;32m      8\u001b[0m \u001b[39mimport\u001b[39;00m \u001b[39mtime\u001b[39;00m\n",
      "\u001b[1;31mModuleNotFoundError\u001b[0m: No module named 'customtkinter'"
     ]
    }
   ],
   "source": [
    "from CTkScrollableDropdown import *\n",
    "import customtkinter\n",
    "\n",
    "root = customtkinter.CTk()\n",
    "\n",
    "customtkinter.CTkLabel(root, text=\"Different Dropdown Styles\").pack(pady=5)\n",
    "\n",
    "# Some option list\n",
    "values = [\"python\",\"tkinter\",\"customtkinter\",\"widgets\",\n",
    "          \"options\",\"menu\",\"combobox\",\"dropdown\",\"search\"]\n",
    "\n",
    "# Attach to OptionMenu \n",
    "optionmenu = customtkinter.CTkOptionMenu(root, width=240)\n",
    "optionmenu.pack(fill=\"x\", padx=10, pady=10)\n",
    "\n",
    "CTkScrollableDropdown(optionmenu, values=values)\n",
    "\n",
    "# Attach to Combobox\n",
    "combobox = customtkinter.CTkComboBox(root, width=240)\n",
    "combobox.pack(fill=\"x\", padx=10, pady=10)\n",
    "\n",
    "CTkScrollableDropdown(combobox, values=values, justify=\"left\", button_color=\"transparent\")\n",
    "\n",
    "# Attach to Entry\n",
    "customtkinter.CTkLabel(root, text=\"Live Search Values\").pack()\n",
    "\n",
    "entry = customtkinter.CTkEntry(root, width=240)\n",
    "entry.pack(fill=\"x\", padx=10, pady=10)\n",
    "\n",
    "CTkScrollableDropdown(entry, values=values, command=lambda e: entry.insert(1, e),\n",
    "                      autocomplete=True) # Using autocomplete\n",
    "\n",
    "# Attach to Button \n",
    "button = customtkinter.CTkButton(root, text=\"choose options\", width=240)\n",
    "button.pack(fill=\"x\", padx=10, pady=10)\n",
    "\n",
    "CTkScrollableDropdown(button, values=values, height=270, resize=False, button_height=30,\n",
    "                      scrollbar=False, command=lambda e: button.configure(text=e))\n",
    "\n",
    "root.mainloop()"
   ]
  }
 ],
 "metadata": {
  "kernelspec": {
   "display_name": "Python 3",
   "language": "python",
   "name": "python3"
  },
  "language_info": {
   "codemirror_mode": {
    "name": "ipython",
    "version": 3
   },
   "file_extension": ".py",
   "mimetype": "text/x-python",
   "name": "python",
   "nbconvert_exporter": "python",
   "pygments_lexer": "ipython3",
   "version": "3.10.11"
  }
 },
 "nbformat": 4,
 "nbformat_minor": 2
}
